{
 "cells": [
  {
   "cell_type": "code",
   "execution_count": 1,
   "id": "fe9d37a9-a2a1-4305-b1f4-55474506a3b8",
   "metadata": {},
   "outputs": [],
   "source": [
    "import pandas as pd\n",
    "import numpy as np\n",
    "from pathlib import Path\n",
    "from datetime import datetime"
   ]
  },
  {
   "cell_type": "code",
   "execution_count": 7,
   "id": "9211babf-ada0-4ee2-9b5d-41e7ea495d59",
   "metadata": {},
   "outputs": [],
   "source": [
    "data_path = Path(\"C:/Users/hp/Downloads/marketing_campaign.xls\")"
   ]
  },
  {
   "cell_type": "code",
   "execution_count": 9,
   "id": "a8c0e862-aab9-449e-be35-ca66301c5a65",
   "metadata": {},
   "outputs": [],
   "source": [
    "df = pd.read_csv(data_path)"
   ]
  },
  {
   "cell_type": "code",
   "execution_count": 11,
   "id": "cbef7219-325c-46c7-b995-9c855d862f1d",
   "metadata": {},
   "outputs": [
    {
     "name": "stdout",
     "output_type": "stream",
     "text": [
      "Shape: (2240, 1)\n",
      "\n",
      "Dtypes:\n",
      " ID\\tYear_Birth\\tEducation\\tMarital_Status\\tIncome\\tKidhome\\tTeenhome\\tDt_Customer\\tRecency\\tMntWines\\tMntFruits\\tMntMeatProducts\\tMntFishProducts\\tMntSweetProducts\\tMntGoldProds\\tNumDealsPurchases\\tNumWebPurchases\\tNumCatalogPurchases\\tNumStorePurchases\\tNumWebVisitsMonth\\tAcceptedCmp3\\tAcceptedCmp4\\tAcceptedCmp5\\tAcceptedCmp1\\tAcceptedCmp2\\tComplain\\tZ_CostContact\\tZ_Revenue\\tResponse    object\n",
      "dtype: object\n",
      "\n",
      "Missing values (%):\n",
      " ID\\tYear_Birth\\tEducation\\tMarital_Status\\tIncome\\tKidhome\\tTeenhome\\tDt_Customer\\tRecency\\tMntWines\\tMntFruits\\tMntMeatProducts\\tMntFishProducts\\tMntSweetProducts\\tMntGoldProds\\tNumDealsPurchases\\tNumWebPurchases\\tNumCatalogPurchases\\tNumStorePurchases\\tNumWebVisitsMonth\\tAcceptedCmp3\\tAcceptedCmp4\\tAcceptedCmp5\\tAcceptedCmp1\\tAcceptedCmp2\\tComplain\\tZ_CostContact\\tZ_Revenue\\tResponse    0.0\n",
      "dtype: float64\n",
      "\n",
      "Duplicate rows: 0\n"
     ]
    }
   ],
   "source": [
    "print(\"Shape:\", df.shape)\n",
    "print(\"\\nDtypes:\\n\", df.dtypes)\n",
    "print(\"\\nMissing values (%):\\n\", (df.isnull().mean()*100).round(2))\n",
    "print(\"\\nDuplicate rows:\", df.duplicated().sum())"
   ]
  },
  {
   "cell_type": "code",
   "execution_count": 13,
   "id": "3ce5ef8c-727e-4980-ab5c-7bc74a1cf758",
   "metadata": {},
   "outputs": [
    {
     "data": {
      "text/html": [
       "<div>\n",
       "<style scoped>\n",
       "    .dataframe tbody tr th:only-of-type {\n",
       "        vertical-align: middle;\n",
       "    }\n",
       "\n",
       "    .dataframe tbody tr th {\n",
       "        vertical-align: top;\n",
       "    }\n",
       "\n",
       "    .dataframe thead th {\n",
       "        text-align: right;\n",
       "    }\n",
       "</style>\n",
       "<table border=\"1\" class=\"dataframe\">\n",
       "  <thead>\n",
       "    <tr style=\"text-align: right;\">\n",
       "      <th></th>\n",
       "      <th>idyear_birtheducationmarital_statusincomekidhometeenhomedt_customerrecencymntwinesmntfruitsmntmeatproductsmntfishproductsmntsweetproductsmntgoldprodsnumdealspurchasesnumwebpurchasesnumcatalogpurchasesnumstorepurchasesnumwebvisitsmonthacceptedcmp3acceptedcmp4acceptedcmp5acceptedcmp1acceptedcmp2complainz_costcontactz_revenueresponse</th>\n",
       "    </tr>\n",
       "  </thead>\n",
       "  <tbody>\n",
       "    <tr>\n",
       "      <th>0</th>\n",
       "      <td>5524\\t1957\\tGraduation\\tSingle\\t58138\\t0\\t0\\t0...</td>\n",
       "    </tr>\n",
       "    <tr>\n",
       "      <th>1</th>\n",
       "      <td>2174\\t1954\\tGraduation\\tSingle\\t46344\\t1\\t1\\t0...</td>\n",
       "    </tr>\n",
       "    <tr>\n",
       "      <th>2</th>\n",
       "      <td>4141\\t1965\\tGraduation\\tTogether\\t71613\\t0\\t0\\...</td>\n",
       "    </tr>\n",
       "    <tr>\n",
       "      <th>3</th>\n",
       "      <td>6182\\t1984\\tGraduation\\tTogether\\t26646\\t1\\t0\\...</td>\n",
       "    </tr>\n",
       "    <tr>\n",
       "      <th>4</th>\n",
       "      <td>5324\\t1981\\tPhD\\tMarried\\t58293\\t1\\t0\\t19-01-2...</td>\n",
       "    </tr>\n",
       "  </tbody>\n",
       "</table>\n",
       "</div>"
      ],
      "text/plain": [
       "  idyear_birtheducationmarital_statusincomekidhometeenhomedt_customerrecencymntwinesmntfruitsmntmeatproductsmntfishproductsmntsweetproductsmntgoldprodsnumdealspurchasesnumwebpurchasesnumcatalogpurchasesnumstorepurchasesnumwebvisitsmonthacceptedcmp3acceptedcmp4acceptedcmp5acceptedcmp1acceptedcmp2complainz_costcontactz_revenueresponse\n",
       "0  5524\\t1957\\tGraduation\\tSingle\\t58138\\t0\\t0\\t0...                                                                                                                                                                                                                                                                                          \n",
       "1  2174\\t1954\\tGraduation\\tSingle\\t46344\\t1\\t1\\t0...                                                                                                                                                                                                                                                                                          \n",
       "2  4141\\t1965\\tGraduation\\tTogether\\t71613\\t0\\t0\\...                                                                                                                                                                                                                                                                                          \n",
       "3  6182\\t1984\\tGraduation\\tTogether\\t26646\\t1\\t0\\...                                                                                                                                                                                                                                                                                          \n",
       "4  5324\\t1981\\tPhD\\tMarried\\t58293\\t1\\t0\\t19-01-2...                                                                                                                                                                                                                                                                                          "
      ]
     },
     "execution_count": 13,
     "metadata": {},
     "output_type": "execute_result"
    }
   ],
   "source": [
    "df.columns = (\n",
    "    df.columns.astype(str)\n",
    "              .str.strip()\n",
    "              .str.lower()\n",
    "              .str.replace(r\"[ \\-]+\", \"_\", regex=True)\n",
    "              .str.replace(r\"[^0-9a-zA-Z_]\", \"\", regex=True)\n",
    ")\n",
    "df.head()"
   ]
  },
  {
   "cell_type": "code",
   "execution_count": 17,
   "id": "3f3af5e8-61bf-460a-a95e-b587ae18b0d0",
   "metadata": {},
   "outputs": [],
   "source": [
    "# Drop duplicates\n",
    "df = df.drop_duplicates()\n",
    "\n",
    "# Numeric imputation\n",
    "for c in df.select_dtypes(include=np.number).columns:\n",
    "    df[c] = df[c].fillna(df[c].median())\n",
    "\n",
    "# Categorical imputation\n",
    "for c in df.select_dtypes(include=[\"object\", \"category\"]).columns:\n",
    "    mode = df[c].mode(dropna=True)\n",
    "    if len(mode) > 0:\n",
    "        df[c] = df[c].fillna(mode.iloc[0])\n"
   ]
  },
  {
   "cell_type": "code",
   "execution_count": 19,
   "id": "0fca2c5b-932a-4ab9-bde1-2b8b33fae834",
   "metadata": {},
   "outputs": [],
   "source": [
    "# Age\n",
    "if \"year_birth\" in df.columns:\n",
    "    df[\"age\"] = datetime.now().year - df[\"year_birth\"]\n",
    "    df.loc[(df[\"age\"] < 0) | (df[\"age\"] > 120), \"age\"] = np.nan\n",
    "\n",
    "# Total spent\n",
    "mnt_cols = [c for c in df.columns if c.startswith(\"mnt\")]\n",
    "if mnt_cols:\n",
    "    df[\"total_spent\"] = df[mnt_cols].sum(axis=1)\n",
    "\n",
    "# Total purchases\n",
    "purchase_cols = [c for c in df.columns if \"purchases\" in c or \"purchase\" in c or \"visits\" in c]\n",
    "if purchase_cols:\n",
    "    df[\"total_purchases\"] = df[purchase_cols].sum(axis=1)\n",
    "\n",
    "# Family size\n",
    "if \"kidhome\" in df.columns and \"teenhome\" in df.columns:\n",
    "    df[\"family_size\"] = df[\"kidhome\"].astype(int) + df[\"teenhome\"].astype(int) + 1"
   ]
  },
  {
   "cell_type": "code",
   "execution_count": 21,
   "id": "58d46794-a74f-4224-aad7-4f7df6564044",
   "metadata": {},
   "outputs": [],
   "source": [
    "for c in df.select_dtypes(include=np.number).columns:\n",
    "    q1 = df[c].quantile(0.25)\n",
    "    q3 = df[c].quantile(0.75)\n",
    "    iqr = q3 - q1\n",
    "    if iqr > 0:\n",
    "        lower, upper = q1 - 1.5*iqr, q3 + 1.5*iqr\n",
    "        df[c] = df[c].clip(lower, upper)"
   ]
  },
  {
   "cell_type": "code",
   "execution_count": 23,
   "id": "c30769f5-0387-43f2-aeb7-ebe8483ffebe",
   "metadata": {},
   "outputs": [],
   "source": [
    "cat_cols = [c for c in df.select_dtypes(include=[\"object\", \"category\"]).columns if df[c].nunique() <= 20]\n",
    "df = pd.get_dummies(df, columns=cat_cols, drop_first=True)"
   ]
  },
  {
   "cell_type": "code",
   "execution_count": 25,
   "id": "98cb2d31-e6b8-4b83-b954-768e44b012eb",
   "metadata": {},
   "outputs": [
    {
     "name": "stdout",
     "output_type": "stream",
     "text": [
      "✅ Cleaning done! Saved as marketing_campaign_cleaned.csv\n"
     ]
    },
    {
     "data": {
      "text/html": [
       "<div>\n",
       "<style scoped>\n",
       "    .dataframe tbody tr th:only-of-type {\n",
       "        vertical-align: middle;\n",
       "    }\n",
       "\n",
       "    .dataframe tbody tr th {\n",
       "        vertical-align: top;\n",
       "    }\n",
       "\n",
       "    .dataframe thead th {\n",
       "        text-align: right;\n",
       "    }\n",
       "</style>\n",
       "<table border=\"1\" class=\"dataframe\">\n",
       "  <thead>\n",
       "    <tr style=\"text-align: right;\">\n",
       "      <th></th>\n",
       "      <th>idyear_birtheducationmarital_statusincomekidhometeenhomedt_customerrecencymntwinesmntfruitsmntmeatproductsmntfishproductsmntsweetproductsmntgoldprodsnumdealspurchasesnumwebpurchasesnumcatalogpurchasesnumstorepurchasesnumwebvisitsmonthacceptedcmp3acceptedcmp4acceptedcmp5acceptedcmp1acceptedcmp2complainz_costcontactz_revenueresponse</th>\n",
       "      <th>total_purchases</th>\n",
       "    </tr>\n",
       "  </thead>\n",
       "  <tbody>\n",
       "    <tr>\n",
       "      <th>0</th>\n",
       "      <td>5524\\t1957\\tGraduation\\tSingle\\t58138\\t0\\t0\\t0...</td>\n",
       "      <td>5524\\t1957\\tGraduation\\tSingle\\t58138\\t0\\t0\\t0...</td>\n",
       "    </tr>\n",
       "    <tr>\n",
       "      <th>1</th>\n",
       "      <td>2174\\t1954\\tGraduation\\tSingle\\t46344\\t1\\t1\\t0...</td>\n",
       "      <td>2174\\t1954\\tGraduation\\tSingle\\t46344\\t1\\t1\\t0...</td>\n",
       "    </tr>\n",
       "    <tr>\n",
       "      <th>2</th>\n",
       "      <td>4141\\t1965\\tGraduation\\tTogether\\t71613\\t0\\t0\\...</td>\n",
       "      <td>4141\\t1965\\tGraduation\\tTogether\\t71613\\t0\\t0\\...</td>\n",
       "    </tr>\n",
       "    <tr>\n",
       "      <th>3</th>\n",
       "      <td>6182\\t1984\\tGraduation\\tTogether\\t26646\\t1\\t0\\...</td>\n",
       "      <td>6182\\t1984\\tGraduation\\tTogether\\t26646\\t1\\t0\\...</td>\n",
       "    </tr>\n",
       "    <tr>\n",
       "      <th>4</th>\n",
       "      <td>5324\\t1981\\tPhD\\tMarried\\t58293\\t1\\t0\\t19-01-2...</td>\n",
       "      <td>5324\\t1981\\tPhD\\tMarried\\t58293\\t1\\t0\\t19-01-2...</td>\n",
       "    </tr>\n",
       "  </tbody>\n",
       "</table>\n",
       "</div>"
      ],
      "text/plain": [
       "  idyear_birtheducationmarital_statusincomekidhometeenhomedt_customerrecencymntwinesmntfruitsmntmeatproductsmntfishproductsmntsweetproductsmntgoldprodsnumdealspurchasesnumwebpurchasesnumcatalogpurchasesnumstorepurchasesnumwebvisitsmonthacceptedcmp3acceptedcmp4acceptedcmp5acceptedcmp1acceptedcmp2complainz_costcontactz_revenueresponse  \\\n",
       "0  5524\\t1957\\tGraduation\\tSingle\\t58138\\t0\\t0\\t0...                                                                                                                                                                                                                                                                                             \n",
       "1  2174\\t1954\\tGraduation\\tSingle\\t46344\\t1\\t1\\t0...                                                                                                                                                                                                                                                                                             \n",
       "2  4141\\t1965\\tGraduation\\tTogether\\t71613\\t0\\t0\\...                                                                                                                                                                                                                                                                                             \n",
       "3  6182\\t1984\\tGraduation\\tTogether\\t26646\\t1\\t0\\...                                                                                                                                                                                                                                                                                             \n",
       "4  5324\\t1981\\tPhD\\tMarried\\t58293\\t1\\t0\\t19-01-2...                                                                                                                                                                                                                                                                                             \n",
       "\n",
       "                                     total_purchases  \n",
       "0  5524\\t1957\\tGraduation\\tSingle\\t58138\\t0\\t0\\t0...  \n",
       "1  2174\\t1954\\tGraduation\\tSingle\\t46344\\t1\\t1\\t0...  \n",
       "2  4141\\t1965\\tGraduation\\tTogether\\t71613\\t0\\t0\\...  \n",
       "3  6182\\t1984\\tGraduation\\tTogether\\t26646\\t1\\t0\\...  \n",
       "4  5324\\t1981\\tPhD\\tMarried\\t58293\\t1\\t0\\t19-01-2...  "
      ]
     },
     "execution_count": 25,
     "metadata": {},
     "output_type": "execute_result"
    }
   ],
   "source": [
    "df.to_csv(\"marketing_campaign_cleaned.csv\", index=False)\n",
    "print(\"✅ Cleaning done! Saved as marketing_campaign_cleaned.csv\")\n",
    "df.head()"
   ]
  },
  {
   "cell_type": "code",
   "execution_count": 27,
   "id": "8b8e603f-423b-4f72-9f8f-e99a6d5ffd9f",
   "metadata": {},
   "outputs": [
    {
     "data": {
      "text/plain": [
       "idyear_birtheducationmarital_statusincomekidhometeenhomedt_customerrecencymntwinesmntfruitsmntmeatproductsmntfishproductsmntsweetproductsmntgoldprodsnumdealspurchasesnumwebpurchasesnumcatalogpurchasesnumstorepurchasesnumwebvisitsmonthacceptedcmp3acceptedcmp4acceptedcmp5acceptedcmp1acceptedcmp2complainz_costcontactz_revenueresponse    0\n",
       "total_purchases                                                                                                                                                                                                                                                                                                                                 0\n",
       "dtype: int64"
      ]
     },
     "execution_count": 27,
     "metadata": {},
     "output_type": "execute_result"
    }
   ],
   "source": [
    "df.isnull().sum()"
   ]
  },
  {
   "cell_type": "code",
   "execution_count": null,
   "id": "6878ce15-92b8-4495-a1e2-346d9f19d751",
   "metadata": {},
   "outputs": [],
   "source": []
  }
 ],
 "metadata": {
  "kernelspec": {
   "display_name": "Python 3 (ipykernel)",
   "language": "python",
   "name": "python3"
  },
  "language_info": {
   "codemirror_mode": {
    "name": "ipython",
    "version": 3
   },
   "file_extension": ".py",
   "mimetype": "text/x-python",
   "name": "python",
   "nbconvert_exporter": "python",
   "pygments_lexer": "ipython3",
   "version": "3.12.7"
  }
 },
 "nbformat": 4,
 "nbformat_minor": 5
}
